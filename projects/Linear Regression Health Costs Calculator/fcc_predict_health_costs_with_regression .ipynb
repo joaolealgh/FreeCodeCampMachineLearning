{
  "cells": [
    {
      "cell_type": "code",
      "execution_count": null,
      "metadata": {
        "id": "1rRo8oNqZ-Rj"
      },
      "outputs": [],
      "source": [
        "# Import libraries. You may or may not use all of these.\n",
        "%pip install -q git+https://github.com/tensorflow/docs\n",
        "%pip install scikit-learn\n",
        "%pip install seaborn"
      ]
    },
    {
      "cell_type": "code",
      "execution_count": null,
      "metadata": {
        "id": "68O5gm41TBoV"
      },
      "outputs": [],
      "source": [
        "import matplotlib.pyplot as plt\n",
        "import numpy as np\n",
        "import pandas as pd\n",
        "\n",
        "import tensorflow as tf\n",
        "\n",
        "from tensorflow import keras\n",
        "from tensorflow.keras import layers\n",
        "\n",
        "from sklearn.preprocessing import OneHotEncoder\n",
        "from sklearn.preprocessing import MinMaxScaler\n",
        "import seaborn as sns\n",
        "from keras.callbacks import EarlyStopping"
      ]
    },
    {
      "cell_type": "code",
      "execution_count": null,
      "metadata": {
        "id": "CiX2FI4gZtTt"
      },
      "outputs": [],
      "source": [
        "# Import data\n",
        "!wget https://cdn.freecodecamp.org/project-data/health-costs/insurance.csv\n",
        "dataset = pd.read_csv('insurance.csv')\n",
        "dataset.tail()"
      ]
    },
    {
      "cell_type": "code",
      "execution_count": null,
      "metadata": {
        "id": "LcopvQh3X-kX"
      },
      "outputs": [],
      "source": [
        "dataset.info()"
      ]
    },
    {
      "cell_type": "code",
      "execution_count": null,
      "metadata": {
        "id": "wMAWf8YbOj0e"
      },
      "outputs": [],
      "source": [
        "dataset.describe()"
      ]
    },
    {
      "cell_type": "code",
      "execution_count": null,
      "metadata": {
        "id": "xzBqs_ySOj26"
      },
      "outputs": [],
      "source": [
        "dataset.isna().sum()"
      ]
    },
    {
      "cell_type": "code",
      "execution_count": null,
      "metadata": {
        "id": "JI5zMlxnOj5W"
      },
      "outputs": [],
      "source": [
        "np.random.seed(42)\n",
        "msk = np.random.rand(len(dataset)) < 0.8\n",
        "\n",
        "train = dataset[msk]\n",
        "\n",
        "test = dataset[~msk]"
      ]
    },
    {
      "cell_type": "code",
      "execution_count": null,
      "metadata": {
        "id": "cVcrm0dwOj7r"
      },
      "outputs": [],
      "source": [
        "train_dataset = train.drop(['expenses'], axis=1)\n",
        "train_labels = train['expenses']\n",
        "\n",
        "test_dataset = test.drop(['expenses'], axis=1)\n",
        "test_labels = test['expenses']"
      ]
    },
    {
      "cell_type": "code",
      "execution_count": null,
      "metadata": {
        "id": "xwQJfgLQOj98"
      },
      "outputs": [],
      "source": [
        "print(train_dataset.shape)\n",
        "print(train_labels.shape)\n",
        "print(test_dataset.shape)\n",
        "print(test_labels.shape)"
      ]
    },
    {
      "cell_type": "code",
      "execution_count": null,
      "metadata": {
        "id": "2c0a_Fs5Opf6"
      },
      "outputs": [],
      "source": [
        "train_labels.hist()\n",
        "print(train_labels)"
      ]
    },
    {
      "cell_type": "code",
      "execution_count": null,
      "metadata": {
        "id": "7jYp4DTlOpiD"
      },
      "outputs": [],
      "source": [
        "fig, ax = plt.subplots(1, 3, figsize=(20, 10))\n",
        "\n",
        "sex_plt = train_dataset['sex'].value_counts()\n",
        "ax[0].bar(sex_plt.index, sex_plt.values)\n",
        "\n",
        "smoker_plt = train_dataset['smoker'].value_counts()\n",
        "ax[1].bar(smoker_plt.index, smoker_plt.values)\n",
        "\n",
        "region_plt = train_dataset['region'].value_counts()\n",
        "ax[2].bar(region_plt.index, region_plt.values)"
      ]
    },
    {
      "cell_type": "code",
      "execution_count": null,
      "metadata": {
        "id": "fD04xOQKOpkS"
      },
      "outputs": [],
      "source": [
        "# Transform the data of the training dataset\n",
        "\n",
        "one_hot_enc = OneHotEncoder(handle_unknown='error')\n",
        "\n",
        "one_hot_enc.fit(train_dataset[['sex', 'smoker', 'region']])\n",
        "codes = one_hot_enc.transform(train_dataset[['sex', 'smoker', 'region']]).toarray()\n",
        "\n",
        "feature_names_one_hot = one_hot_enc.get_feature_names_out(['sex', 'smoker', 'region'])\n",
        "\n",
        "minmaxscaler = MinMaxScaler()\n",
        "transformed_train_dataset = minmaxscaler.fit_transform(train_dataset[['age', 'bmi', 'children']])\n",
        "\n",
        "train_dataset['age'] = transformed_train_dataset[:, 0]\n",
        "train_dataset['bmi'] = transformed_train_dataset[:, 1]\n",
        "train_dataset['children'] = transformed_train_dataset[:, 2]\n",
        "\n",
        "codes_df = pd.DataFrame(data=codes, columns=feature_names_one_hot)\n",
        "train_dataset = pd.concat([train_dataset.reset_index(drop=True), codes_df.reset_index(drop=True)], axis=1)\n",
        "train_dataset.drop(labels=['sex', 'smoker', 'region'], axis=1, inplace=True)\n",
        "train_dataset.head(10)"
      ]
    },
    {
      "cell_type": "code",
      "execution_count": null,
      "metadata": {
        "id": "OOwdKOrdOppP"
      },
      "outputs": [],
      "source": [
        "codes = one_hot_enc.transform(test_dataset[['sex', 'smoker', 'region']]).toarray()\n",
        "\n",
        "feature_names_one_hot = one_hot_enc.get_feature_names_out(['sex', 'smoker', 'region'])\n",
        "\n",
        "transformed_test_dataset = minmaxscaler.transform(test_dataset[['age', 'bmi', 'children']])\n",
        "\n",
        "test_dataset['age'] = transformed_test_dataset[:, 0]\n",
        "test_dataset['bmi'] = transformed_test_dataset[:, 1]\n",
        "test_dataset['children'] = transformed_test_dataset[:, 2]\n",
        "\n",
        "codes_df = pd.DataFrame(data=codes, columns=feature_names_one_hot)\n",
        "test_dataset = pd.concat([test_dataset.reset_index(drop=True), codes_df.reset_index(drop=True)], axis=1)\n",
        "test_dataset.drop(labels=['sex', 'smoker', 'region'], axis=1, inplace=True)\n",
        "test_dataset.head(10)"
      ]
    },
    {
      "cell_type": "code",
      "execution_count": null,
      "metadata": {
        "id": "Wb7oxsmKOpm0"
      },
      "outputs": [],
      "source": [
        "# Normalize the target labels to improve the training phase and reduce the size of the gradient used to update the weights and result in a more stable model and training process\n",
        "minmaxscaler_target = MinMaxScaler()\n",
        "train_labels = minmaxscaler_target.fit_transform(train_labels.values.reshape(-1, 1)).flatten()\n",
        "test_labels = minmaxscaler_target.transform(test_labels.values.reshape(-1, 1)).flatten()"
      ]
    },
    {
      "cell_type": "code",
      "execution_count": null,
      "metadata": {
        "id": "nvYm3jJsOprE"
      },
      "outputs": [],
      "source": [
        "# Plot the features\n",
        "\n",
        "features = ['age', 'bmi', 'children']\n",
        "features_encoded = ['sex_female', 'sex_male', 'smoker_no', 'smoker_yes', 'region_northeast', 'region_northwest', 'region_southeast', 'region_southwest']\n",
        "print(features)\n",
        "for feature in features:\n",
        "    sns.jointplot(data=train_dataset, x=feature, y=train_labels, kind=\"reg\")\n",
        "plt.show()\n",
        "\n",
        "# Boxplot the binary features\n",
        "for i, feature in enumerate(features_encoded):\n",
        "    plt.figure(i)\n",
        "    sns.boxplot(data=train_dataset, x=feature, y=train_labels)\n",
        "plt.show()"
      ]
    },
    {
      "cell_type": "code",
      "execution_count": null,
      "metadata": {
        "id": "7BlK6pCOOvga"
      },
      "outputs": [],
      "source": [
        "# sns.pairplot(train_dataset[features])"
      ]
    },
    {
      "cell_type": "code",
      "execution_count": null,
      "metadata": {
        "id": "_vp7uq1iOviv"
      },
      "outputs": [],
      "source": [
        "# Pearson correlation -> correlate the features with the expenses target label\n",
        "\n",
        "#corr_matrix = train_dataset.corr(numeric_only=True)\n",
        "#corr_matrix_age = train_dataset['age'].sort_values(ascending=False)"
      ]
    },
    {
      "cell_type": "code",
      "execution_count": null,
      "metadata": {
        "id": "ha7tB4W3OxVo"
      },
      "outputs": [],
      "source": [
        "# Verify that everything is in order to pass to the model\n",
        "\n",
        "# Train dataset\n",
        "print(train_dataset.shape)\n",
        "print(train_labels.shape)\n",
        "train_dataset.info()\n",
        "\n",
        "# Test dataset\n",
        "print(test_dataset.shape)\n",
        "print(test_labels.shape)\n",
        "test_dataset.info()"
      ]
    },
    {
      "cell_type": "code",
      "execution_count": null,
      "metadata": {
        "id": "4s-Vfxt_OzEz"
      },
      "outputs": [],
      "source": [
        "# Model\n",
        "\n",
        "model = keras.Sequential(\n",
        "    [\n",
        "        layers.Dense(units=100, activation=\"relu\", input_shape=(train_dataset.shape[1],)),\n",
        "        layers.Dense(units=50, activation=\"relu\"),\n",
        "        layers.Dense(units=25, activation=\"relu\"),\n",
        "        layers.Dense(units=1),\n",
        "    ]\n",
        ")\n",
        "\n",
        "model.compile(optimizer='adam',\n",
        "              loss=tf.keras.losses.MeanAbsoluteError(),\n",
        "              metrics=['mae', 'mse'])\n",
        "\n",
        "model.summary()"
      ]
    },
    {
      "cell_type": "code",
      "execution_count": null,
      "metadata": {
        "id": "UzeH3Dp0O0O6"
      },
      "outputs": [],
      "source": [
        "es = EarlyStopping(monitor='val_loss',\n",
        "                   mode='min',\n",
        "                   patience=50,\n",
        "                   restore_best_weights = True)\n",
        "\n",
        "history = model.fit(train_dataset, train_labels,\n",
        "                    validation_data = (test_dataset, test_labels),\n",
        "                    callbacks=[es],\n",
        "                    epochs=50,\n",
        "                    batch_size=50,\n",
        "                    verbose=1)\n",
        "\n",
        "print(model.metrics_names)"
      ]
    },
    {
      "cell_type": "code",
      "execution_count": null,
      "metadata": {
        "id": "Xe7RXH3N3CWU"
      },
      "outputs": [],
      "source": [
        "# RUN THIS CELL TO TEST YOUR MODEL. DO NOT MODIFY CONTENTS.\n",
        "# Test model by checking how well the model generalizes using the test set.\n",
        "loss, mae, mse = model.evaluate(test_dataset, test_labels, verbose=2)\n",
        "\n",
        "print(\"Testing set Mean Abs Error: {:5.2f} expenses\".format(mae))\n",
        "\n",
        "if mae < 3500:\n",
        "  print(\"You passed the challenge. Great job!\")\n",
        "else:\n",
        "  print(\"The Mean Abs Error must be less than 3500. Keep trying.\")\n",
        "\n",
        "# Plot predictions.\n",
        "test_predictions = model.predict(test_dataset).flatten()\n",
        "\n",
        "a = plt.axes(aspect='equal')\n",
        "plt.scatter(test_labels, test_predictions)\n",
        "plt.xlabel('True values (expenses)')\n",
        "plt.ylabel('Predictions (expenses)')\n",
        "lims = [0, 1]\n",
        "plt.xlim(lims)\n",
        "plt.ylim(lims)\n",
        "_ = plt.plot(lims,lims)\n"
      ]
    }
  ],
  "metadata": {
    "colab": {
      "name": "fcc_predict_health_costs_with_regression.ipynb",
      "private_outputs": true,
      "provenance": [],
      "toc_visible": true
    },
    "kernelspec": {
      "display_name": "Python 3",
      "name": "python3"
    }
  },
  "nbformat": 4,
  "nbformat_minor": 0
}
